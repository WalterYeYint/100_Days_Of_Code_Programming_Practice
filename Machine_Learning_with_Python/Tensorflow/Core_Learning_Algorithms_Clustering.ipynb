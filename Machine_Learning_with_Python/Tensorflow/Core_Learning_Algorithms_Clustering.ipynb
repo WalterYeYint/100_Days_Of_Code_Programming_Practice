{
  "nbformat": 4,
  "nbformat_minor": 0,
  "metadata": {
    "colab": {
      "name": "Core_Learning_Algorithms_Clustering.ipynb",
      "provenance": [],
      "authorship_tag": "ABX9TyOeRBq0lE6KDquFkt55R8qO",
      "include_colab_link": true
    },
    "kernelspec": {
      "name": "python3",
      "display_name": "Python 3"
    }
  },
  "cells": [
    {
      "cell_type": "markdown",
      "metadata": {
        "id": "view-in-github",
        "colab_type": "text"
      },
      "source": [
        "<a href=\"https://colab.research.google.com/github/WalterYeYint/100_Days_Of_Code_Programming_Practice/blob/main/Machine_Learning_with_Python/Tensorflow/Core_Learning_Algorithms_Clustering.ipynb\" target=\"_parent\"><img src=\"https://colab.research.google.com/assets/colab-badge.svg\" alt=\"Open In Colab\"/></a>"
      ]
    },
    {
      "cell_type": "markdown",
      "metadata": {
        "id": "XfgyCZ0RP0BC"
      },
      "source": [
        "# The Weather Model"
      ]
    },
    {
      "cell_type": "markdown",
      "metadata": {
        "id": "MibsJH3VONDz"
      },
      "source": [
        "**Documentation at -** \n",
        "[HiddenMarkovModel](https://www.tensorflow.org/probability/api_docs/python/tfp/distributions/HiddenMarkovModel)"
      ]
    },
    {
      "cell_type": "markdown",
      "metadata": {
        "id": "UdZ4zsKzMkqq"
      },
      "source": [
        "**To create a hidden markov model, we need -**\n",
        "\n",
        "*   States\n",
        "*   Observation Distribution\n",
        "*   Transition Distribution\n",
        "\n"
      ]
    },
    {
      "cell_type": "markdown",
      "metadata": {
        "id": "_9JTNh-5Mxh_"
      },
      "source": [
        "## Import & Setup"
      ]
    },
    {
      "cell_type": "code",
      "metadata": {
        "id": "KqsHJI87EVTC"
      },
      "source": [
        "%tensorflow_version 2.x"
      ],
      "execution_count": null,
      "outputs": []
    },
    {
      "cell_type": "code",
      "metadata": {
        "id": "XzcTI-oGNrb3"
      },
      "source": [
        "import tensorflow_probability as tfp    # We are using a different model from tensorflow this time\n",
        "import tensorflow as tf"
      ],
      "execution_count": null,
      "outputs": []
    },
    {
      "cell_type": "markdown",
      "metadata": {
        "id": "yjlsUKdXOnXE"
      },
      "source": [
        "## Initial Distributions"
      ]
    },
    {
      "cell_type": "code",
      "metadata": {
        "id": "Qd_uf68dOkPX"
      },
      "source": [
        "tfd = tfp.distributions\n",
        "\n",
        "# A simple weather model.\n",
        "\n",
        "# Represent a cold day with 0 and a hot day with 1.\n",
        "# Suppose the first day of a sequence has a 0.8 chance of being cold.\n",
        "# We can model this using the categorical distribution:\n",
        "\n",
        "initial_distribution = tfd.Categorical(probs=[0.8, 0.2])\n",
        "\n",
        "# Suppose a cold day has a 30% chance of being followed by a hot day\n",
        "# and a hot day has a 20% chance of being followed by a cold day.\n",
        "# We can model this as:\n",
        "\n",
        "transition_distribution = tfd.Categorical(probs=[[0.7, 0.3],\n",
        "                                                 [0.2, 0.8]])\n",
        "\n",
        "# Suppose additionally that on each day the temperature is\n",
        "# normally distributed with mean and standard deviation 0 and 5 on\n",
        "# a cold day and mean and standard deviation 15 and 10 on a hot day.\n",
        "# We can model this with:\n",
        "\n",
        "observation_distribution = tfd.Normal(loc=[0., 15.], scale=[5., 10.])   # decimals put in place cause they must be floats\n"
      ],
      "execution_count": null,
      "outputs": []
    },
    {
      "cell_type": "markdown",
      "metadata": {
        "id": "MSSdzLS_PrqX"
      },
      "source": [
        "## Creating the Hidden Markov Model"
      ]
    },
    {
      "cell_type": "code",
      "metadata": {
        "id": "c9AnBc5RPucA"
      },
      "source": [
        "# We can combine these distributions into a single week long\n",
        "# hidden Markov model with:\n",
        "\n",
        "model = tfd.HiddenMarkovModel(\n",
        "    initial_distribution=initial_distribution,\n",
        "    transition_distribution=transition_distribution,\n",
        "    observation_distribution=observation_distribution,\n",
        "    num_steps=7)"
      ],
      "execution_count": null,
      "outputs": []
    },
    {
      "cell_type": "code",
      "metadata": {
        "id": "a1TdvL8ZQ3ai",
        "colab": {
          "base_uri": "https://localhost:8080/"
        },
        "outputId": "3f6ff180-f7a4-4953-99ef-1be6d33fe387"
      },
      "source": [
        "# The expected temperatures for each day are given by:\n",
        "\n",
        "mean = model.mean()  # shape [7], elements approach 9.0\n",
        "\n",
        "with tf.compat.v1.Session() as sess:\n",
        "  print(mean.numpy())"
      ],
      "execution_count": null,
      "outputs": [
        {
          "output_type": "stream",
          "text": [
            "[2.9999998 5.9999995 7.4999995 8.25      8.625001  8.812501  8.90625  ]\n"
          ],
          "name": "stdout"
        }
      ]
    }
  ]
}